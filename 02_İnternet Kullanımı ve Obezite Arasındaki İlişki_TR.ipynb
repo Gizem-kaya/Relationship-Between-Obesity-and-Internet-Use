{
 "cells": [
  {
   "cell_type": "markdown",
   "metadata": {},
   "source": [
    "# Obezite ve İnternet Kullanımı Arasındaki İlişki\n",
    "\n",
    "#### Gizem Kaya, Necdet Alperen Özil\n",
    "\n",
    "\n",
    "\n",
    "Amacımız 200 ülkeden alınan ve 1975-2016 yıllarını kapsayan verilerle, obez insanların toplam nüfus içindeki yüzdelik dilimlerini belirlemek ve yorumlamak. Bu iki değişken arasındaki ilişkinin doğru orantılı olduğu yönünde bir sonuç çıkmasını bekliyoruz. Çünkü internet kullanımının insanların hareketlerini azalttığını hatta çoğu zaman hareket etmeye gerek bile duymadıklarını düşünüyoruz. Bu projede internet kullanımı arttıkça insanların daha fazla hareketsiz kalmasını ve hareketsizliğin obezite üzerindeki etkisini araştırdık."
   ]
  },
  {
   "cell_type": "markdown",
   "metadata": {},
   "source": [
    "## İçerik\n",
    "\n",
    "[Problem](#problem)   \n",
    "[Verinin Anlaşılması](#data_understanding)   \n",
    "[Verilerin Hazırlanması](#data_preparation)   \n",
    "[Modelleme](#modeling)   \n",
    "[Değerlendirme](#evaluation)   \n",
    "[Referanslar](#references)   \n"
   ]
  },
  {
   "cell_type": "markdown",
   "metadata": {},
   "source": [
    "## Problem <a class=\"anchor\" id=\"problem\"></a>"
   ]
  },
  {
   "cell_type": "markdown",
   "metadata": {},
   "source": [
    "   Dünyamızın büyüme ve gelişme hızı her geçen gün artmaktadır. Bu büyüme bize teknolojik açıdan ve insan yaşamının kalitesini ve uzunluğunu artırmamız açısından imkan sağlıyor.\n",
    "\n",
    "   > Örneğin, internet üzerinden psikolojik yardım almak, evden ayrılması çok zor olan bir kişi için epey faydalı olabilir.\n",
    "   \n",
    "   İnternetin, birçok sorunun çözümünde etkili olduğunu düşünsek de, bazen yan etkiler olabileceğini unutmamalıyız. İnternetin uzakları daha yakın hale getirmesi sadece sağlık alanında değil birçok iş alanında da hayatımızı kolaylaştırdı. Ancak bu sadece bir şeyleri yapmamızı kolaylaştırmakla ve hızlandırmakla kalmadı, aynı zamanda insanların bir şeylere ulaşmak için gösterdikleri çabayı da azalttı.\n",
    "   \n",
    "   >Örneğin, uzaktan çalışan insanlar evlerinden hiç ayrılmadan başka ülkelere iş yapabilir, para kazanabilirler. Ya da bir arkadaşımızla görüşmek, onu görmek istediğimizde, yanına gitmeye gerek kalmadan o kişiyi görebiliriz.\n",
    "   \n",
    "   Bunlar, internet sayesinde çaba harcamadan ayağımıza kadar gelen ayrıcalıklardır. Ancak, hareket etmenin insanın doğasında olduğunu, insan sağlığına fayda sağladığını ve kalp durumunu iyileştirerek yaşamı uzattığını biliyoruz. Obezite, son 10 yıldır dünya gündeminde olan ve hareketsizlik sonucu ortaya çıkan hastalıklardan biridir. Obezitenin sebeplerinin hareketsizlik, aşırı yağlı veya karbonhidratlı yemekler ve çok fazla yemek yenmesi olduğunu düşünüyoruz. İnternet kullanımının boş zamanlarımızı sosyal medya veya uzaktan çalışma yoluyla doldurduğunu biliyoruz. Öyle ki bazen yemek yemek için bile yeterli zamanımız olmayabiliyor. Bu yüzden online siparişlerle fast food'a yöneliyoruz. Fast food yiyecekler harika görünse ve tadları mükemmel olsa da, bizi tam doyurmuyor ve tekrar acıkıyoruz. Besin değeri açısından yetersiz oldukları ve doyurmadıkları için tekrar yemek istiyoruz. Böylece internetin üzerimizdeki etkisini görüyoruz. Hem çok yemek yiyoruz hem de yüksek karbonhidratlı ve yağlı yemekler yiyoruz. Yemek yeme alışkanlıklarımızı bu şekilde devam ettirmek obeziteye neden olabilir.\n",
    "   \n",
    "   Bu düşüncelerimiz ışığında, ülkelerdeki obez olan kişi sayısını internet kullanımı ile yıllara göre karşılaştırarak ikisi arasındaki bağlantıyı göstermeye çalıştık."
   ]
  },
  {
   "cell_type": "markdown",
   "metadata": {},
   "source": [
    "## Verinin Anlaşılması<a class=\"anchor\" id=\"data_understanding\"></a>"
   ]
  },
  {
   "cell_type": "markdown",
   "metadata": {},
   "source": [
    "Bu projede 3 farklı dataset kullanacağız. İlki internet kullanıcıları, ikincisi nüfus ve üçüncüsü obezite verileridir.\n"
   ]
  },
  {
   "cell_type": "markdown",
   "metadata": {},
   "source": [
    "\n",
    "* *Internet Kullanıcıları*, Dünya Bankası'ndan bulduğumuz İnternet Kullanıcıları, 264 ülkede internet kullanan toplam kişi sayısının yüzdesini 1960'dan 2019'a kadar her yıl için içeriyor. Verilere bakarsak, 2000'den önceki Internet Kullanıcıları data setindeki verilerin eksik olduğunu görüyoruz. Bu eksiklik, data setimizi ararken de dikkatimizi çekti, ancak internetin o zaman kullanılmamasını makul gördük.\n"
   ]
  },
  {
   "cell_type": "markdown",
   "metadata": {},
   "source": [
    "*  *Nüfus*, 1960-2019 yılları arasında 264 ülkedeki nüfusu içermektedir. Nüfus data setine bakarsak, Nüfus ve İnternet Kullanıcıları data setinin benzer olduğunu görebiliriz. Çünkü data setlerin sağlandığı kaynaklar aynı. Bu, data setlerimizin üzerinde kolayca işlem yapabileceğimiz anlamına gelir.\n",
    "\n",
    "     Bazı ülkelerin çok az nüfusu olduğu için, internet kullanıcılarının yüzdesi o ülke hakkında güvenilir sonuçlar vermeyebilir. Örneğin, 2000 yılında nüfusu 100.000 olan bir ülkenin internet kullanıcılarının yüzdesi% 80'dir, bu ülkenin çok gelişmiş bir ülke olduğunu göstermez. 2016 yılına kadar 100.000'den fazla nüfusa sahip olamayan ülkelere baktığımızda, sık sık bu ülkelerin yeni kurulmuş ya da az gelişmiş olduklarını görüyoruz. Bu ülkeleri göz ardı edeceğiz çünkü işimize pek yaramayacaklarını düşünüyoruz."
   ]
  },
  {
   "cell_type": "markdown",
   "metadata": {},
   "source": [
    "\n",
    "* *Obezite*, Global Health Observatory Veri Deposu'nda bulduğumuz obezite data seti, 18 yaş üstü bireylerde cinsiyete göre ayırarak yaparak 1975'ten 2016'ya kadar olan yıllardaki 195 ülkenin obez nüfusunun gerçek nüfusa oranını göstermektedir. Data setler cinsiyete göre ayrılmamıştır 3 sütun bulunmaktadır. Toplam 3 sütundan her iki cinsiyet için de geçerli olan sütunu kullanacağız. Ancak bu data setin veri türü, vücut kitle endeksi (vke) 30 kg / m2 veya daha yüksek olan tanımlanmış popülasyonun yüzdesidir. Ve bu veriler, 1975'ten 2016'ya kadar vücut kitle endeksi, düşük kilolu, aşırı kilolu ve obezitede dünya çapındaki eğilimlerle hesaplanır: 128,9 milyon katılımcıyla 2416 nüfus tabanlı ölçüm çalışmasının birleştirilmiş analizi."
   ]
  },
  {
   "cell_type": "markdown",
   "metadata": {},
   "source": [
    "# Verilerin Hazırlanması<a class=\"anchor\" id=\"data_preparation\"></a>"
   ]
  },
  {
   "cell_type": "markdown",
   "metadata": {},
   "source": [
    "Gerekli kütüphaneler yükleniyor"
   ]
  },
  {
   "cell_type": "code",
   "execution_count": null,
   "metadata": {},
   "outputs": [],
   "source": [
    "# dataframe oluşturmak için\n",
    "\n",
    "import pandas as pd\n",
    "\n",
    "# modelleme ve değerlendirme için\n",
    "\n",
    "import numpy as np\n",
    "import sklearn as sk\n",
    "import seaborn as sns\n",
    "import matplotlib.pyplot as plt\n",
    "from sklearn.linear_model import LinearRegression \n",
    "from sklearn.preprocessing import PolynomialFeatures\n",
    "from sklearn.model_selection import train_test_split\n",
    "from sklearn.metrics import mean_squared_error \n",
    "\n",
    "\n",
    "# magic fonksiyon\n",
    "\n",
    "%matplotlib inline"
   ]
  },
  {
   "cell_type": "markdown",
   "metadata": {},
   "source": [
    "### Data setler için csv uzantılı kütükleri okumak"
   ]
  },
  {
   "cell_type": "markdown",
   "metadata": {},
   "source": [
    "Internet_Users.csv ve Population.csv kütüklerini okurken ilk 4 satırı göz ardı ettik. Çünkü bu satırlar tanımlayıcı görev görüyordu ve işimize yaramayacaktı."
   ]
  },
  {
   "cell_type": "code",
   "execution_count": null,
   "metadata": {},
   "outputs": [],
   "source": [
    "# Indeks sütununu Country Name olarak vermek için index_col 0 olarak kullandık.\n",
    "\n",
    "Internet_Users = pd.read_csv(\"Internet_Users.csv\", skiprows=4, index_col=0)\n",
    "Internet_Users.head(4)"
   ]
  },
  {
   "cell_type": "code",
   "execution_count": null,
   "metadata": {},
   "outputs": [],
   "source": [
    "Population = pd.read_csv(\"Population.csv\", skiprows=4, index_col=0)\n",
    "Population.head(4)"
   ]
  },
  {
   "cell_type": "code",
   "execution_count": null,
   "metadata": {},
   "outputs": [],
   "source": [
    "Obesity = pd.read_csv(\"Obesity.csv\", index_col=0)\n",
    "Obesity.head(4)"
   ]
  },
  {
   "cell_type": "markdown",
   "metadata": {},
   "source": [
    "### Öznitelik Seçimi"
   ]
  },
  {
   "cell_type": "markdown",
   "metadata": {},
   "source": [
    "Öznitelik seçimini yapabilmek için dataframe'i incelerken, 'Country Code', 'Indicator Name', 'Indicator Code' sütunlarının çalışmamızla alakalı olmadığını görüyoruz. Bu yüzden bu sütunlar atılmalıdır."
   ]
  },
  {
   "cell_type": "code",
   "execution_count": null,
   "metadata": {},
   "outputs": [],
   "source": [
    "Internet_Users.drop([ 'Country Code', 'Indicator Name', 'Indicator Code'], axis=1, inplace = True) \n",
    "\n",
    "# axis 1 satırları değil sütunları kaldırdığımız anlamına gelmektedir."
   ]
  },
  {
   "cell_type": "markdown",
   "metadata": {},
   "source": [
    "Internet_Users data frame'inde yaptığımız gibi, öznitelik seçimini yapabilmek için Population data frame'ini incelerken, 'Country Code', 'Indicator Name', 'Indicator Code' sütunlarının çalışmamızla alakalı olmadığını görüyoruz. Bu yüzden bu sütunlar atılmalıdır."
   ]
  },
  {
   "cell_type": "code",
   "execution_count": null,
   "metadata": {},
   "outputs": [],
   "source": [
    "Population.drop(['Country Code', 'Indicator Name', 'Indicator Code'], axis=1, inplace = True) \n",
    "\n",
    "# axis 1 satırları değil sütunları kaldırdığımız anlamına gelmektedir."
   ]
  },
  {
   "cell_type": "markdown",
   "metadata": {},
   "source": [
    "Elimizdeki dataya bakarak şunları söyleyebiliriz:\n",
    "\n",
    "Internet_Users ve Population data setimiz 1960-2019 yılları arasındaki tüm verileri içermektedir. Bununla birlikte, Obezite data setimiz 1975-2016 verilerini içermektedir. Bu nedenle, 2019 ve 2018 verilerinin çoğu eksik olduğundan, bu sütunların silinmesinde herhangi bir sakınca yoktur. Ayrıca, her üç data setinde de ortak olan yıllar üzerinde çalışmalarımıza devam etmemiz gerektiğinden, kesişimlerinin dışındaki yılları Internet_Users ve Population data setlerinden sileriz."
   ]
  },
  {
   "cell_type": "code",
   "execution_count": null,
   "metadata": {},
   "outputs": [],
   "source": [
    "columns_should_dropped_list = ['1960','1961','1962','1963','1964','1965',\n",
    "                               '1966','1967','1968','1969','1970','1971',\n",
    "                               '1972','1973','1973','1974','2017','2018','2019','Unnamed: 64']\n",
    "\n",
    "\n",
    "\n",
    "Internet_Users.drop(columns_should_dropped_list, axis=1, inplace = True)\n",
    "Population.drop(columns_should_dropped_list, axis=1, inplace = True)\n",
    "\n",
    "Internet_Users.head()\n"
   ]
  },
  {
   "cell_type": "code",
   "execution_count": null,
   "metadata": {},
   "outputs": [],
   "source": [
    "Obesity.head(4)"
   ]
  },
  {
   "cell_type": "markdown",
   "metadata": {},
   "source": [
    "Görüldüğü üzere, data frame'in ilk 3 satırında işe yarar veri yoktur. Yani, Obezite data frame'inin hazırlanmasının ilk adımı baştaki 3 satırdan kurtulmaktır."
   ]
  },
  {
   "cell_type": "code",
   "execution_count": null,
   "metadata": {},
   "outputs": [],
   "source": [
    "Obesity = Obesity.iloc[3:, :]\n",
    "\n",
    "# set index column's name as the other dataframe's index names.\n",
    "Obesity.index.name = 'Country Name'\n",
    "Obesity.head(2)"
   ]
  },
  {
   "cell_type": "markdown",
   "metadata": {},
   "source": [
    "Sütunlara bakarsak, yılların yanındaki noktadan sonraki sayıları görürüz. Bu sayılar cinsiyetleri belirtmek içindir.\n",
    "Yanlarında sayı olmayan yıllar, her iki cinsiyeti de temsil eder. Yılda .1 varsa, bu sütunların erkek verilerine sahip olduğu anlamına gelir. Yılda .2 varsa, bu sütunların kadın verilerine sahip olduğu anlamına gelir."
   ]
  },
  {
   "cell_type": "markdown",
   "metadata": {},
   "source": [
    "Verileri daha net görebilmek için köşeli parantez içinde verilen detaylardan kurtulduk."
   ]
  },
  {
   "cell_type": "code",
   "execution_count": null,
   "metadata": {},
   "outputs": [],
   "source": [
    "for column in Obesity:\n",
    "    Obesity[column] = Obesity[column].astype(str).str[:4].astype(np.str)\n",
    "    \n",
    "Obesity.head(2)"
   ]
  },
  {
   "cell_type": "code",
   "execution_count": null,
   "metadata": {},
   "outputs": [],
   "source": [
    "Obesity.describe(include = 'all')"
   ]
  },
  {
   "cell_type": "markdown",
   "metadata": {},
   "source": [
    "Tabloda görebileceğiniz gibi, bazı değerler 'No d' olarak yazılmıştır. Bu ifade 'Veri yok', yani eksik veri anlamına gelir. Bu eksik verilerin projemizin bütünlüğü açısından doldurulması gerektiğini düşünsek de, verileri incelediğimizde, tüm eksik verilerin 'Güney Sudan', 'Sudan', 'San Marino've 'Monako' da olduğunu görüyoruz."
   ]
  },
  {
   "cell_type": "code",
   "execution_count": null,
   "metadata": {},
   "outputs": [],
   "source": [
    "Obesity.loc[['South Sudan', 'Sudan', 'San Marino', 'Monaco']]"
   ]
  },
  {
   "cell_type": "markdown",
   "metadata": {},
   "source": [
    "Bu ülkeleri data setimizden temizledik."
   ]
  },
  {
   "cell_type": "code",
   "execution_count": null,
   "metadata": {},
   "outputs": [],
   "source": [
    "Obesity.drop('South Sudan', axis = 0, inplace = True)\n",
    "Obesity.drop('Sudan', axis = 0, inplace = True)\n",
    "Obesity.drop('San Marino', axis = 0, inplace = True)\n",
    "Obesity.drop('Monaco', axis = 0, inplace = True)"
   ]
  },
  {
   "cell_type": "markdown",
   "metadata": {},
   "source": [
    "Bu işlemlerden sonra ve verilerimizi sayısal değerlere dönüştürdükten sonra, describe komutunu işleterek kontrol edelim."
   ]
  },
  {
   "cell_type": "code",
   "execution_count": null,
   "metadata": {},
   "outputs": [],
   "source": [
    "dataframes = [Internet_Users, Population, Obesity]\n",
    "\n",
    "for dataframe in dataframes:\n",
    "    \n",
    "    for column in dataframe:\n",
    "        \n",
    "        pd.to_numeric(dataframe[column])\n",
    "    \n",
    "    \n",
    "Obesity.describe()"
   ]
  },
  {
   "cell_type": "markdown",
   "metadata": {},
   "source": [
    "Son gördüğümüz tabloya göre, veri setimizde birçok biricik değer var, yani birkaç tekrarlanan değer var. Bu, çalışmalarımızda kullandığımız verilerin ayrıntı seviyelerini ifade eder. Çünkü verilerimizin çoğunun aynı olması, genelleme veya basitleştirme sonucunda verilere ulaşıldığı anlamına gelir."
   ]
  },
  {
   "cell_type": "markdown",
   "metadata": {},
   "source": [
    "Daha önce de belirttiğimiz gibi, cinsiyet değerlerinin projemizdeki verilerle hiçbir ilişkisi olmadığından .1 ve .2 ile biten sütunları temizlememiz gerekiyor."
   ]
  },
  {
   "cell_type": "code",
   "execution_count": null,
   "metadata": {},
   "outputs": [],
   "source": [
    "\n",
    "for column in Obesity:\n",
    "    \n",
    "    # if the penultimate character is '.'\n",
    "    if Obesity[column].name[-2] == '.':\n",
    "        # drop this column\n",
    "        Obesity.drop(column, axis = 1, inplace = True)\n",
    "\n",
    "      "
   ]
  },
  {
   "cell_type": "markdown",
   "metadata": {},
   "source": [
    "Obezite data frame'inin diğer iki data frame ile karşılaştırmak için sütunların sırasını tersine çevirmemiz gerekir."
   ]
  },
  {
   "cell_type": "code",
   "execution_count": null,
   "metadata": {},
   "outputs": [],
   "source": [
    "Obesity = Obesity.iloc[:, ::-1]"
   ]
  },
  {
   "cell_type": "code",
   "execution_count": null,
   "metadata": {},
   "outputs": [],
   "source": [
    "Internet_Users.head()"
   ]
  },
  {
   "cell_type": "code",
   "execution_count": null,
   "metadata": {},
   "outputs": [],
   "source": [
    "Population.head()"
   ]
  },
  {
   "cell_type": "code",
   "execution_count": null,
   "metadata": {},
   "outputs": [],
   "source": [
    "Obesity.head()"
   ]
  },
  {
   "cell_type": "markdown",
   "metadata": {},
   "source": [
    "Tüm bu öznitelik belirleme işlemlerinden sonra 3 data frame'in tüm özelliklerini aynı hale getirdik."
   ]
  },
  {
   "cell_type": "markdown",
   "metadata": {},
   "source": [
    "### Ortak Ülkeleri Bulmak"
   ]
  },
  {
   "cell_type": "markdown",
   "metadata": {},
   "source": [
    "Obezite data setinde Internet_Users ve Population veri setinden daha az ülkemiz var. Kesişen ülkeler üzerinde ortak bir çalışma yapılabileceğinden, önce kesişen ülkeleri bulmalı ve daha sonra bu ülkeler dışında kalanları tüm data setlerden çıkarmalıyız."
   ]
  },
  {
   "cell_type": "code",
   "execution_count": null,
   "metadata": {},
   "outputs": [],
   "source": [
    "intersection = np.intersect1d(Internet_Users.index, Obesity.index)\n",
    "Internet_Users = Internet_Users.loc[intersection]\n",
    "\n"
   ]
  },
  {
   "cell_type": "markdown",
   "metadata": {},
   "source": [
    "Sütun temizleme işleminden sonra, Internet_Users uygulamasının Obesity data frame'ine dahil olan tüm ülkeleri içermediği görülmektedir. Çünkü ülke sayısı sadece kesişen ülkeler alındığında 162 olarak kaldı ve bu sayı Obesity data setindeki ülke sayısı olan 195ten az.\n",
    "\n",
    "Bu durumda, yalnızca Internet_Users ve Population'dan değil, aynı zamanda Obesity data frame'inden kesişen ülkeleri çıkarmamız gerekir."
   ]
  },
  {
   "cell_type": "code",
   "execution_count": null,
   "metadata": {},
   "outputs": [],
   "source": [
    "# yukarıdaki kesişimi tanımladık\n",
    "\n",
    "Population = Population.loc[intersection]"
   ]
  },
  {
   "cell_type": "code",
   "execution_count": null,
   "metadata": {},
   "outputs": [],
   "source": [
    "# yukarıdaki kesişimi tanımladık\n",
    "\n",
    "Obesity = Obesity.loc[intersection]"
   ]
  },
  {
   "cell_type": "code",
   "execution_count": null,
   "metadata": {},
   "outputs": [],
   "source": [
    "print('Shape of Internet_Users:', Internet_Users.shape)\n",
    "print('Shape of Population:', Population.shape)\n",
    "print('Shape of Obesity:', Obesity.shape)"
   ]
  },
  {
   "cell_type": "markdown",
   "metadata": {},
   "source": [
    "Yukarıdaki çıktıdan da görülebileceği gibi, artık aynı ülkelerden aynı yıllara ait data framelerinde 3 farklı veri bulabiliriz."
   ]
  },
  {
   "cell_type": "markdown",
   "metadata": {},
   "source": [
    "### Kayıp Değerler"
   ]
  },
  {
   "cell_type": "markdown",
   "metadata": {},
   "source": [
    "**Internet_Users** 'ın eksik değerlerine bakalım. 20'den az girdisi olan ülkeleri bulalım."
   ]
  },
  {
   "cell_type": "code",
   "execution_count": null,
   "metadata": {},
   "outputs": [],
   "source": [
    "there_is_missing_value = False\n",
    "\n",
    "row_names = []\n",
    "\n",
    "countries_dict = {}\n",
    "\n",
    "for index, row in Internet_Users.iterrows():\n",
    "    \n",
    "    if row.count() < 20:\n",
    "        \n",
    "        there_is_missing_value = True\n",
    "        \n",
    "        row_names.append(row.name)\n",
    "        countries_dict[row.name] = row.count()\n",
    "        \n",
    "        #print(row.name , row.count())\n",
    "\n",
    "        \n",
    "if there_is_missing_value == False:\n",
    "    \n",
    "    print('There is no missing value!')\n",
    "    \n",
    "else :        \n",
    "          \n",
    "    lists = sorted(countries_dict.items())\n",
    "    x, y = zip(*lists)    # unpack a list of pairs into two tuples\n",
    "\n",
    "    fig = plt.figure(figsize=(10, 6), dpi= 80, facecolor='w', edgecolor='k')\n",
    "\n",
    "    plt.bar(row_names,  y, color = \"tab:cyan\")\n",
    "    plt.title('  Interner User\\'ın Ülkelerinin Kayıp Değer Sayıları \\n',fontsize=27)\n",
    "    plt.xlabel('\\nÜlkeler',fontsize=20)\n",
    "    plt.ylabel('Kayıp değerlerin sayısı\\n',fontsize=20)    \n",
    "\n",
    "    plt.ylim(0,25)\n",
    "    plt.xticks(rotation=90, fontsize=12)\n",
    "    plt.yticks(fontsize=10)\n",
    "    plt.show()"
   ]
  },
  {
   "cell_type": "markdown",
   "metadata": {},
   "source": [
    "Bu sütunlara bakalım."
   ]
  },
  {
   "cell_type": "code",
   "execution_count": null,
   "metadata": {},
   "outputs": [],
   "source": [
    "Internet_Users.loc[row_names,:]"
   ]
  },
  {
   "cell_type": "markdown",
   "metadata": {},
   "source": [
    "Bu çıktıdan da görülebileceği gibi, internet 2003'ten önce Karadağ'da kullanılmamıştır. İnternet kullanım verileri 2003 yılından bu yana tüm yıllarda olduğu için bu ülkeyi data framelerimizden çıkarmaya gerek yoktur.\n",
    "\n",
    "20'den az girdisi olan ülkelere sırayla baktığımızda, sadece iki ülkenin verilerinin (Nauru ve Palau) rastgele girildiğini görüyoruz.\n",
    "\n",
    "Bu durumda, bu iki ülkeyi tüm data setlerimizden çıkarmamız gerekiyor."
   ]
  },
  {
   "cell_type": "code",
   "execution_count": null,
   "metadata": {},
   "outputs": [],
   "source": [
    "dataframes = [Internet_Users, Population, Obesity]\n",
    "\n",
    "for dataframe in dataframes:\n",
    "\n",
    "    dataframe.drop('Nauru', axis = 0, inplace = True)\n",
    "    dataframe.drop('Palau', axis = 0, inplace = True)"
   ]
  },
  {
   "cell_type": "markdown",
   "metadata": {},
   "source": [
    "**Population**'ın kayıp değer sayısına bakalım ve 42 yıl içinde kayıp yıl var mı inceleyelim."
   ]
  },
  {
   "cell_type": "code",
   "execution_count": null,
   "metadata": {},
   "outputs": [],
   "source": [
    "there_is_missing_value = False\n",
    "row_names = []\n",
    "\n",
    "countries_dict = {}\n",
    "\n",
    "for index, row in Population.iterrows():\n",
    "    \n",
    "    if row.count() < 42:\n",
    "        \n",
    "        there_is_missing_value = True\n",
    "        \n",
    "        row_names.append(row.name)\n",
    "        countries_dict[row.name] = row.count()\n",
    "        \n",
    "        #print(row.name , row.count())\n",
    "\n",
    "        \n",
    "if there_is_missing_value == False:\n",
    "    \n",
    "    print('There is no missing value!')\n",
    "    \n",
    "else :        \n",
    "          \n",
    "    lists = sorted(countries_dict.items())\n",
    "    x, y = zip(*lists)    # unpack a list of pairs into two tuples\n",
    "\n",
    "    fig = plt.figure(figsize=(6, 6), dpi= 80, facecolor='w', edgecolor='k')\n",
    "\n",
    "    plt.bar(row_names,  y, color = \"plum\")\n",
    "    plt.title('  Population\\'ın Ülkelerinin Kayıp Değer Sayısı \\n',fontsize=20)\n",
    "    plt.xlabel('\\nÜlkeler',fontsize=15)\n",
    "    plt.ylabel('Kayıp Değer Sayısı\\n',fontsize=15)    \n",
    "\n",
    "    plt.ylim(0,42)\n",
    "    plt.xticks(rotation=90, fontsize=12)\n",
    "    plt.yticks(fontsize=10)\n",
    "    plt.show()\n"
   ]
  },
  {
   "cell_type": "markdown",
   "metadata": {},
   "source": [
    "Bu sütunları inceleyelim."
   ]
  },
  {
   "cell_type": "code",
   "execution_count": null,
   "metadata": {},
   "outputs": [],
   "source": [
    "Population.loc[row_names,:]"
   ]
  },
  {
   "cell_type": "markdown",
   "metadata": {},
   "source": [
    "Nüfus data frame'inde kayıp değer düzenleme konusunda karar verebilmek için bu 3 ülkeden daha fazla bilgi toplamalıyız."
   ]
  },
  {
   "cell_type": "code",
   "execution_count": null,
   "metadata": {},
   "outputs": [],
   "source": [
    "fig, axes = plt.subplots(nrows=1, ncols=3, figsize=(18,6))\n",
    "years = np.array(list(range(1975,2017)))\n",
    "\n",
    "Population.columns = pd.to_numeric(Population.columns)\n",
    "\n",
    "Eritrea = Population.loc[row_names[0],:]\n",
    "Kuwait = Population.loc[row_names[1],:]\n",
    "Serbia = Population.loc[row_names[2],:]\n",
    "\n",
    "sns.regplot(x = years, y = Eritrea, data = Population, marker='o', ax=axes[0])\n",
    "sns.regplot(x = years, y = Kuwait, data = Population, marker='o', ax=axes[1])\n",
    "sns.regplot(x = years, y = Serbia, data = Population, marker='o', ax=axes[2])\n",
    "\n",
    "fig.tight_layout(pad=3.0)\n",
    "\n",
    "plt.show()\n"
   ]
  },
  {
   "cell_type": "markdown",
   "metadata": {},
   "source": [
    "Eritrea grafiğine dayanarak, eksik değerleri doldurmak için parçalı bir polinom enterpolasyonu ile segment bazında enterpolasyon yapmaya karar verdik."
   ]
  },
  {
   "cell_type": "code",
   "execution_count": null,
   "metadata": {},
   "outputs": [],
   "source": [
    "Eritrea.interpolate(method = 'spline', order = 1, limit_direction = 'forward', axis = 0, inplace = True)\n",
    "\n",
    "Population.loc[row_names[0],:] = Eritrea\n",
    "\n",
    "sns.regplot(x = years, y = Eritrea, data = Population, marker='o')\n",
    "\n",
    "plt.show()"
   ]
  },
  {
   "cell_type": "markdown",
   "metadata": {},
   "source": [
    "Eritrea grafiğine dayanarak, eksik değerleri doldurmak için polinom enterpolasyonunu kullanmalıyız."
   ]
  },
  {
   "cell_type": "code",
   "execution_count": null,
   "metadata": {},
   "outputs": [],
   "source": [
    "#Population.loc[row_names[1],:].index = pd.to_numeric(Population.loc[row_names[1],:].index)\n",
    "\n",
    "Kuwait.interpolate(method = 'polynomial', order = 3, limit_direction = 'forward', axis = 0, inplace = True)\n",
    "\n",
    "Population.loc[row_names[1],:] = Kuwait\n",
    "\n",
    "sns.regplot(x = years, y = Kuwait, data = Population, marker='o')\n",
    "\n",
    "plt.show()"
   ]
  },
  {
   "cell_type": "markdown",
   "metadata": {},
   "source": [
    "Sırbistan 2006'da kurulduğundan 2006'dan önceki nüfus bilgilerini 0 ile dolduruyoruz."
   ]
  },
  {
   "cell_type": "markdown",
   "metadata": {},
   "source": [
    "**Population**'ın kayıp değer sayısına bakalım ve 42 yıl içinde kayıp yıl var mı inceleyelim."
   ]
  },
  {
   "cell_type": "code",
   "execution_count": null,
   "metadata": {},
   "outputs": [],
   "source": [
    "there_is_missing_value = False\n",
    "\n",
    "for index, row in Obesity.iterrows():\n",
    "    if row.count() < 42:\n",
    "        there_is_missing_value = True\n",
    "        print(row.name, row.count())\n",
    "        \n",
    "if there_is_missing_value == False:\n",
    "    print('Kayıp değer yok!')"
   ]
  },
  {
   "cell_type": "markdown",
   "metadata": {},
   "source": [
    "Obesity data setinde kayıp değer yok."
   ]
  },
  {
   "cell_type": "markdown",
   "metadata": {},
   "source": [
    "Data setindeki NaN değerlerine sahip İnternet kullanıcılarının hücrelerine bakarsak, internetin o yıllarda kullanılmadığını anlıyoruz. Böylece bu NaN değerlerini sıfır değerleriyle değiştirebiliriz."
   ]
  },
  {
   "cell_type": "markdown",
   "metadata": {},
   "source": [
    "Enterpolasyon yöntemleri ile doldurulması gereken eksik değerleri doldurduğumuz veya sildiğimiz veya tüm data framelerin kaldırdığımız için, kalan eksik değerleri sıfırla doldurabiliriz."
   ]
  },
  {
   "cell_type": "code",
   "execution_count": null,
   "metadata": {},
   "outputs": [],
   "source": [
    "Internet_Users = Internet_Users.fillna(0)\n",
    "\n",
    "Population = Population.fillna(0)\n",
    "\n",
    "# Obesity data setinde NaN olmadığı için değişiklik yapmıyoruz."
   ]
  },
  {
   "cell_type": "markdown",
   "metadata": {},
   "source": [
    "### Aykırı Değerlerin İdaresi"
   ]
  },
  {
   "cell_type": "markdown",
   "metadata": {},
   "source": [
    "2016 yılına kadar nüfusu 100.000'i aşmayan ülkelere baktığımızda, bu ülkelerin yeni kurulduğu, daha az gelişmiş veya dağıldığı için bu ülkelerin çalışmamıza aykırı değerler barındırdığını düşünüyoruz."
   ]
  },
  {
   "cell_type": "markdown",
   "metadata": {},
   "source": [
    "Hangi ülkelerin kaç yıl boyunca 100.000 nüfus sınırının altında olduğuna bakalım."
   ]
  },
  {
   "cell_type": "code",
   "execution_count": null,
   "metadata": {},
   "outputs": [],
   "source": [
    "less_than_100000 = {}\n",
    "\n",
    "for index, row in Population.iterrows():\n",
    "   \n",
    "    counter = 0\n",
    "    for column in Population.columns:\n",
    "            \n",
    "        if row[column] < 100000 :\n",
    "            counter = counter + 1\n",
    "            less_than_100000[index] = counter\n",
    "            \n",
    "        \n",
    "    if index in less_than_100000.keys():\n",
    "        print(\"For\", less_than_100000[index],\"years,\", index, \"could not exceed the limit of 100000.\")\n",
    "\n"
   ]
  },
  {
   "cell_type": "markdown",
   "metadata": {},
   "source": [
    "Hangi ülkelerin sınırın altında olduğunu daha iyi görmek için bir çubuk diyagram çizelim."
   ]
  },
  {
   "cell_type": "code",
   "execution_count": null,
   "metadata": {},
   "outputs": [],
   "source": [
    "lists = sorted(less_than_100000.items())\n",
    "x, y = zip(*lists)    # unpack a list of pairs into two tuples\n",
    "\n",
    "limit_line = [15,15,15,15,15,15,15,15,15,15,15,15]\n",
    "\n",
    "fig = plt.figure(figsize=(10, 6), dpi= 80, facecolor='w', edgecolor='k')\n",
    "\n",
    "plt.plot(x, limit_line, color = \"royalblue\")\n",
    "\n",
    "plt.bar(x,  y, color = \"salmon\")\n",
    "plt.title('  Ülkeler ve Kaç Kere Sınırın Altında Kaldıkları \\n',fontsize=27)\n",
    "plt.xlabel('\\nÜlkeler',fontsize=20)\n",
    "plt.ylabel('Kaç kere sınır altında kaldı\\n',fontsize=20)    \n",
    "\n",
    "plt.ylim(0,50)\n",
    "plt.xticks(rotation=90, fontsize=12)\n",
    "plt.yticks(fontsize=10)\n",
    "plt.show()"
   ]
  },
  {
   "cell_type": "markdown",
   "metadata": {},
   "source": [
    "Grafikte göreceğimiz gibi isimleri Sao Tome and Principe, Sırbistan, Vanuatu olan 3 ülke sınırımızın altında. Dolayısıyla, bu ülkeler projemize aykırı değerler barındırdığı için, bu ülkeleri 3 data setinden de kaldırmalıyız."
   ]
  },
  {
   "cell_type": "code",
   "execution_count": null,
   "metadata": {},
   "outputs": [],
   "source": [
    "dataframes = [Internet_Users, Population, Obesity]\n",
    "\n",
    "for dataframe in dataframes:\n",
    "\n",
    "    dataframe.drop('Sao Tome and Principe', axis = 0, inplace = True)\n",
    "    dataframe.drop('Serbia', axis = 0, inplace = True)\n",
    "    dataframe.drop('Vanuatu', axis = 0, inplace = True)\n"
   ]
  },
  {
   "cell_type": "code",
   "execution_count": null,
   "metadata": {},
   "outputs": [],
   "source": [
    "print('Internet_Users Satır ve Sütun sayısı:', Internet_Users.shape)\n",
    "print('Population Satır ve Sütun sayısı:', Population.shape)\n",
    "print('Obesity Satır ve Sütun sayısı:', Obesity.shape)"
   ]
  },
  {
   "cell_type": "markdown",
   "metadata": {},
   "source": [
    "## Modelleme<a class=\"anchor\" id=\"modeling\"></a>"
   ]
  },
  {
   "cell_type": "code",
   "execution_count": null,
   "metadata": {},
   "outputs": [],
   "source": [
    "# Hangi model kullanılacak? Neden? Hangi parametreler?"
   ]
  },
  {
   "cell_type": "markdown",
   "metadata": {},
   "source": [
    "Basit doğrusal regresyon modeli kullanılacaktır. Çünkü verilerimiz doğrusal olarak büyüyor. Parametreler İnternet Kullanıcıları ve Obezitedir. İnternet Kullanıcılarının ve Obezitenin doğrusal olarak bağımlı olduğunu, modelimizi test etmeyi ve gelecek 5 yılı öngördüğünü göstermek istiyoruz."
   ]
  },
  {
   "cell_type": "code",
   "execution_count": null,
   "metadata": {},
   "outputs": [],
   "source": [
    "lm=LinearRegression()"
   ]
  },
  {
   "cell_type": "code",
   "execution_count": null,
   "metadata": {},
   "outputs": [],
   "source": [
    "X=np.array(Internet_Users.iloc[147,:]).reshape(-1, 1)"
   ]
  },
  {
   "cell_type": "code",
   "execution_count": null,
   "metadata": {},
   "outputs": [],
   "source": [
    "Y=np.array(Obesity.iloc[147,:]).reshape(-1, 1)"
   ]
  },
  {
   "cell_type": "code",
   "execution_count": null,
   "metadata": {},
   "outputs": [],
   "source": [
    "X = X.astype(float)    \n",
    "Y = Y.astype(float)"
   ]
  },
  {
   "cell_type": "code",
   "execution_count": null,
   "metadata": {},
   "outputs": [],
   "source": [
    "X_train, X_test, y_train, y_test = train_test_split(X, Y, train_size = 0.7, test_size = 0.3, random_state = 0)\n",
    "\n",
    "#print (\"X_train: \", X_train)\n",
    "#print (\"y_train: \", y_train)\n",
    "#print(\"X_test: \", X_test)\n",
    "#print (\"y_test: \", y_test)"
   ]
  },
  {
   "cell_type": "code",
   "execution_count": null,
   "metadata": {},
   "outputs": [],
   "source": [
    "lm.fit(X_train,y_train)"
   ]
  },
  {
   "cell_type": "markdown",
   "metadata": {},
   "source": [
    "## Değerlendirme<a class=\"anchor\" id=\"evaluation\"></a>"
   ]
  },
  {
   "cell_type": "code",
   "execution_count": null,
   "metadata": {},
   "outputs": [],
   "source": [
    "y_predicted = lm.predict(X_test)\n",
    "\n",
    "r_sq = lm.score(y_predicted, y_test)\n",
    "mse = mean_squared_error(y_predicted, y_test) \n",
    "\n",
    "print('R-squared Error:', r_sq)\n",
    "print('Mean Squared Error:', mse)\n"
   ]
  },
  {
   "cell_type": "markdown",
   "metadata": {},
   "source": [
    "score() fonksiyonu R kare hatasını hesaplar ve mean_squared_error() fonksiyonu ortalama kare hatasını hesaplar. Gördüğümüz gibi, Türkiye ile ilgili çalışmamızda tahminimizin hata sayıları yüksektir. Nedenini bulmak için bir regresyon grafiği çizelim."
   ]
  },
  {
   "cell_type": "markdown",
   "metadata": {},
   "source": [
    "Katsayı tahmini için bir fonksiyon."
   ]
  },
  {
   "cell_type": "code",
   "execution_count": null,
   "metadata": {},
   "outputs": [],
   "source": [
    "def estimate_coef(x, y): \n",
    "    # number of observations/points \n",
    "    n = np.size(x) \n",
    "  \n",
    "    # mean of x and y vector \n",
    "    m_x, m_y = np.mean(x), np.mean(y) \n",
    "  \n",
    "    # calculating cross-deviation and deviation about x \n",
    "    SS_xy = np.sum(y*x) - n*m_y*m_x \n",
    "    SS_xx = np.sum(x*x) - n*m_x*m_x \n",
    "  \n",
    "    # calculating regression coefficients \n",
    "    b_1 = SS_xy / SS_xx \n",
    "    b_0 = m_y - b_1*m_x \n",
    "  \n",
    "    return(b_0, b_1) "
   ]
  },
  {
   "cell_type": "markdown",
   "metadata": {},
   "source": [
    "Gerçek veri noktaları için özelleşmiş regresyon çizgisi çizme fonksiyonu."
   ]
  },
  {
   "cell_type": "code",
   "execution_count": null,
   "metadata": {},
   "outputs": [],
   "source": [
    "def plot_regression_line(x, y, b): \n",
    "    \n",
    "    fig = plt.figure(figsize=(10, 6), dpi= 80, facecolor='w', edgecolor='k')\n",
    "    \n",
    "    # plotting the actual points as scatter plot \n",
    "    plt.scatter(x, y, color = \"m\", marker = \"o\", s = 40) \n",
    "  \n",
    "    # predicted response vector \n",
    "    y_pred = b[0] + b[1]*x \n",
    "  \n",
    "    # plotting the regression line \n",
    "    plt.plot(x, y_pred, color = \"g\") \n",
    "  \n",
    "    # putting labels \n",
    "    plt.title('Regression Line and Actual Data Points\\n', fontsize = 15)\n",
    "    plt.xlabel('Internet Use ratio') \n",
    "    plt.ylabel('Obesity ratio') \n",
    "  \n",
    "    # function to show plot \n",
    "    plt.show() \n"
   ]
  },
  {
   "cell_type": "markdown",
   "metadata": {},
   "source": [
    "Hata değerinin neden yüksek olduğunu anlamak için regresyon grafiğini çizelim."
   ]
  },
  {
   "cell_type": "code",
   "execution_count": null,
   "metadata": {},
   "outputs": [],
   "source": [
    "b = estimate_coef(X, Y) \n",
    "print(\"Estimated coefficients:\\nb0 = {}  \\nb1 = {}\".format(b[0], b[1])) \n",
    "  \n",
    "# plotting regression line \n",
    "plot_regression_line(X, Y, b) "
   ]
  },
  {
   "cell_type": "markdown",
   "metadata": {},
   "source": [
    "Çizdiğimiz grafiğe bakarsak, internetin kullanılmadığı dönemler tahminlerimizi büyük ölçüde etkilemiş. Şimdi bu parçaları çıkartalım ve tekrar bir grafik çizelim."
   ]
  },
  {
   "cell_type": "code",
   "execution_count": null,
   "metadata": {},
   "outputs": [],
   "source": [
    "fig = plt.figure(figsize=(10, 6), dpi= 80, facecolor='w', edgecolor='k')\n",
    "ax = fig.add_axes([0.1, 0.1, 0.8, 0.8]) # main axes\n",
    "\n",
    "ax.plot(years.reshape(-1, 1), np.transpose(np.array(Internet_Users.iloc[147,:])), color='lightcoral', linewidth=4)\n",
    "\n",
    "\n",
    "ax.set_title('Turkey\\n', fontsize = 20)\n",
    "ax.set_xticks(years)\n",
    "ax.set_xticklabels(years, rotation = 90)\n",
    "\n",
    "plt.xlabel('\\nYears') \n",
    "plt.ylabel('Internet Use ratio') \n",
    "\n",
    "plt.show()"
   ]
  },
  {
   "cell_type": "markdown",
   "metadata": {},
   "source": [
    "Şimdi 1997'den sonraki verilerle tekrar doğrusal regresyon modelimizi oluşturalım."
   ]
  },
  {
   "cell_type": "code",
   "execution_count": null,
   "metadata": {},
   "outputs": [],
   "source": [
    "lm_2 = LinearRegression()\n",
    "\n",
    "X = np.array(Internet_Users.iloc[147,23:]).reshape(-1, 1)\n",
    "Y = np.array(Obesity.iloc[147,23:]).reshape(-1, 1)\n",
    "\n",
    "X = X.astype(float)    \n",
    "Y = Y.astype(float)\n",
    "\n",
    "X_train, X_test, y_train, y_test = train_test_split(X, Y, train_size = 0.7, test_size = 0.3, random_state = 0)\n",
    "\n",
    "lm_2.fit(X_train,y_train)\n",
    "\n",
    "y_predicted = lm_2.predict(X_test)\n",
    "\n",
    "r_sq = lm_2.score(y_predicted, y_test)\n",
    "mse = mean_squared_error(y_predicted, y_test) \n",
    "\n",
    "print('R-squared Error:', r_sq)\n",
    "print('Mean Squared Error:', mse)\n",
    "\n",
    "b = estimate_coef(X, Y) \n",
    "print(\"\\nEstimated coefficients:\\nb_0 = {}  \\nb_1 = {}\".format(b[0], b[1])) \n",
    "  \n",
    "# plotting regression line \n",
    "plot_regression_line(X, Y, b)"
   ]
  },
  {
   "cell_type": "markdown",
   "metadata": {},
   "source": [
    "R-kare Hatamız 0.18 ve Ortalama Kare Hatamız 0.26'dır. Bu, modelimizin verilerimize uygun olduğu anlamına gelir!"
   ]
  },
  {
   "cell_type": "markdown",
   "metadata": {},
   "source": [
    "## Referanslar<a class=\"anchor\" id=\"references\"></a>"
   ]
  },
  {
   "cell_type": "code",
   "execution_count": null,
   "metadata": {},
   "outputs": [],
   "source": []
  },
  {
   "cell_type": "markdown",
   "metadata": {},
   "source": [
    "List all the sources you used during your work.\n",
    "This includes jupyter notebooks you found on Internet.\n",
    "Remeber, your work may not be an original one. However, this document must be genuine. Copy and paste kind of deliveries will be punished badly."
   ]
  },
  {
   "cell_type": "code",
   "execution_count": null,
   "metadata": {},
   "outputs": [],
   "source": []
  },
  {
   "cell_type": "markdown",
   "metadata": {},
   "source": [
    "\n",
    "**Disclaimer!** <font color='grey'>This notebook was prepared by <student name(s)> as a term project for the *BBM469 - Data Intensive Applications Laboratory* class. The notebook is available for educational purposes only. There is no guarantee on the correctness of the content provided as it is a student work.\n",
    "\n",
    "If you think there is any copyright violation, please let us [know](https://forms.gle/BNNRB2kR8ZHVEREq8). \n",
    "</font>"
   ]
  }
 ],
 "metadata": {
  "kernelspec": {
   "display_name": "Python 2",
   "language": "python",
   "name": "python2"
  },
  "language_info": {
   "codemirror_mode": {
    "name": "ipython",
    "version": 2
   },
   "file_extension": ".py",
   "mimetype": "text/x-python",
   "name": "python",
   "nbconvert_exporter": "python",
   "pygments_lexer": "ipython2",
   "version": "2.7.16"
  }
 },
 "nbformat": 4,
 "nbformat_minor": 2
}
